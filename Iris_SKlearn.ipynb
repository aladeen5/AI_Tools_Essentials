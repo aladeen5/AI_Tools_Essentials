{
 "cells": [
  {
   "cell_type": "code",
   "execution_count": 1,
   "id": "initial_id",
   "metadata": {
    "ExecuteTime": {
     "end_time": "2025-10-19T14:24:23.544028Z",
     "start_time": "2025-10-19T14:24:15.101742Z"
    },
    "collapsed": true,
    "jupyter": {
     "outputs_hidden": true
    }
   },
   "outputs": [
    {
     "name": "stdout",
     "output_type": "stream",
     "text": [
      "--- 1. Data Loading ---\n",
      "Features (X) shape: (150, 4)\n",
      "Target (y) shape: (150,)\n",
      "Target Species: ['setosa' 'versicolor' 'virginica']\n",
      "\n",
      "First 5 rows of features:\n",
      "   sepal length (cm)  sepal width (cm)  petal length (cm)  petal width (cm)\n",
      "0                5.1               3.5                1.4               0.2\n",
      "1                4.9               3.0                1.4               0.2\n",
      "2                4.7               3.2                1.3               0.2\n",
      "3                4.6               3.1                1.5               0.2\n",
      "4                5.0               3.6                1.4               0.2\n",
      "--------------------------------------------------\n",
      "--- 2. Data Preprocessing ---\n",
      "Number of missing values per feature:\n",
      "sepal length (cm)    0\n",
      "sepal width (cm)     0\n",
      "petal length (cm)    0\n",
      "petal width (cm)     0\n",
      "dtype: int64\n",
      "Target variable is already encoded (0, 1, 2) and ready for training.\n",
      "--------------------------------------------------\n",
      "--- 3. Data Splitting ---\n",
      "X_train shape: (120, 4)\n",
      "X_test shape: (30, 4)\n",
      "y_train distribution: [40 40 40]\n",
      "y_test distribution: [10 10 10]\n",
      "--------------------------------------------------\n",
      "--- 4. Model Training (Decision Tree) ---\n",
      "Decision Tree Classifier trained successfully.\n",
      "--------------------------------------------------\n",
      "--- 5. Prediction and Evaluation ---\n",
      "\n",
      "--- Model Evaluation Results ---\n",
      "Accuracy: 0.9333 (Overall correctness)\n",
      "Precision: 0.9333 (Weighted ability to avoid false positives)\n",
      "Recall: 0.9333 (Weighted ability to find all positive samples)\n",
      "------------------------------\n"
     ]
    }
   ],
   "source": [
    "import pandas as pd\n",
    "from sklearn.datasets import load_iris\n",
    "from sklearn.model_selection import train_test_split\n",
    "from sklearn.tree import DecisionTreeClassifier\n",
    "from sklearn.metrics import accuracy_score, precision_score, recall_score\n",
    "from sklearn.preprocessing import LabelEncoder\n",
    "import numpy as np\n",
    "\n",
    "# --- 3. Splitting the Data ---\n",
    "print(\"--- 3. Data Splitting ---\")\n",
    "# Split the dataset into training and testing sets (80% train, 20% test)\n",
    "# 'random_state' ensures reproducibility\n",
    "X_train, X_test, y_train, y_test = train_test_split(\n",
    "    X, y, test_size=0.2, random_state=42, stratify=y\n",
    ")\n",
    "\n",
    "print(f\"X_train shape: {X_train.shape}\")\n",
    "print(f\"X_test shape: {X_test.shape}\")\n",
    "print(f\"y_train distribution: {np.bincount(y_train)}\")\n",
    "print(f\"y_test distribution: {np.bincount(y_test)}\")\n",
    "\n",
    "print(\"-\" * 50)"
   ]
  },
  {
   "metadata": {},
   "cell_type": "code",
   "outputs": [],
   "execution_count": null,
   "source": [
    "# --- 1. Load Data ---\n",
    "print(\"--- 1. Data Loading ---\")\n",
    "# Load the Iris dataset, which is conveniently packaged with Scikit-learn\n",
    "iris = load_iris()\n",
    "# Create a DataFrame for easier handling\n",
    "X = pd.DataFrame(iris.data, columns=iris.feature_names)\n",
    "y = iris.target\n",
    "target_names = iris.target_names\n",
    "\n",
    "print(f\"Features (X) shape: {X.shape}\")\n",
    "print(f\"Target (y) shape: {y.shape}\")\n",
    "print(f\"Target Species: {target_names}\")\n",
    "# Display the first few rows of the data\n",
    "print(\"\\nFirst 5 rows of features:\")\n",
    "print(X.head())\n",
    "\n",
    "print(\"-\" * 50)"
   ],
   "id": "980b26509a2bfc07"
  },
  {
   "metadata": {},
   "cell_type": "code",
   "outputs": [],
   "execution_count": null,
   "source": [
    "# --- 2. Preprocessing the Data ---\n",
    "print(\"--- 2. Data Preprocessing ---\")\n",
    "\n",
    "# a) Handling Missing Values:\n",
    "# The standard Scikit-learn Iris dataset is clean and has no missing values.\n",
    "# However, this block demonstrates how one would check and handle them.\n",
    "print(f\"Number of missing values per feature:\\n{X.isnull().sum()}\")\n",
    "# If there were missing values, a common strategy would be:\n",
    "# X = X.fillna(X.mean()) # For numerical features\n",
    "\n",
    "# b) Label Encoding (Target Variable):\n",
    "# The target variable 'y' is already numerically encoded (0, 1, 2), which is\n",
    "# suitable for Scikit-learn. If it were string labels (e.g., 'setosa'), we'd use LabelEncoder.\n",
    "# Demonstrating LabelEncoder for completeness:\n",
    "# le = LabelEncoder()\n",
    "# y_encoded = le.fit_transform(y_string_labels) # Use y_encoded for training\n",
    "\n",
    "print(\"Target variable is already encoded (0, 1, 2) and ready for training.\")\n",
    "\n",
    "print(\"-\" * 50)"
   ],
   "id": "e7320d7c53c12ad9"
  },
  {
   "metadata": {},
   "cell_type": "code",
   "outputs": [],
   "execution_count": null,
   "source": [
    "# --- 4. Training the Decision Tree Classifier ---\n",
    "print(\"--- 4. Model Training (Decision Tree) ---\")\n",
    "# Initialize the Decision Tree Classifier\n",
    "# 'criterion' can be 'gini' (default) or 'entropy'\n",
    "dt_classifier = DecisionTreeClassifier(random_state=42)\n",
    "\n",
    "# Train the model on the training data\n",
    "dt_classifier.fit(X_train, y_train)\n",
    "\n",
    "print(\"Decision Tree Classifier trained successfully.\")\n",
    "\n",
    "print(\"-\" * 50)\n",
    "\n",
    "# --- 5. Prediction and Evaluation ---\n",
    "print(\"--- 5. Prediction and Evaluation ---\")\n",
    "# Make predictions on the test set\n",
    "y_pred = dt_classifier.predict(X_test)\n",
    "\n",
    "# Calculate Evaluation Metrics\n",
    "# The 'average' parameter is crucial for multi-class classification:\n",
    "# 'macro': Calculate metric for each class and find their unweighted mean.\n",
    "# 'weighted': Calculate metric for each class and find their mean weighted by support (number of true instances for each label).\n",
    "# 'micro': Global calculation, counting total true positives, false negatives, and false positives.\n",
    "\n",
    "# 1. Accuracy: Overall correctness of the model\n",
    "accuracy = accuracy_score(y_test, y_pred)\n",
    "\n",
    "# 2. Precision: Ability of the classifier not to label as positive a sample that is negative\n",
    "# Use 'weighted' to account for class imbalance (though minor here)\n",
    "precision = precision_score(y_test, y_pred, average='weighted', zero_division=0)\n",
    "\n",
    "# 3. Recall: Ability of the classifier to find all the positive samples\n",
    "# Use 'weighted'\n",
    "recall = recall_score(y_test, y_pred, average='weighted', zero_division=0)"
   ],
   "id": "4187014912d49160"
  },
  {
   "metadata": {},
   "cell_type": "code",
   "outputs": [],
   "execution_count": null,
   "source": [
    "# --- Display Results ---\n",
    "print(\"\\n--- Model Evaluation Results ---\")\n",
    "print(f\"Accuracy: {accuracy:.4f} (Overall correctness)\")\n",
    "print(f\"Precision: {precision:.4f} (Weighted ability to avoid false positives)\")\n",
    "print(f\"Recall: {recall:.4f} (Weighted ability to find all positive samples)\")\n",
    "print(\"------------------------------\")"
   ],
   "id": "1ef772bae5522ddb"
  }
 ],
 "metadata": {
  "kernelspec": {
   "display_name": "Python 3 (ipykernel)",
   "language": "python",
   "name": "python3"
  },
  "language_info": {
   "codemirror_mode": {
    "name": "ipython",
    "version": 3
   },
   "file_extension": ".py",
   "mimetype": "text/x-python",
   "name": "python",
   "nbconvert_exporter": "python",
   "pygments_lexer": "ipython3",
   "version": "3.12.3"
  }
 },
 "nbformat": 4,
 "nbformat_minor": 5
}
