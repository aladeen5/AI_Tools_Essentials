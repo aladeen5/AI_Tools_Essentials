{
 "cells": [
  {
   "cell_type": "code",
   "id": "initial_id",
   "metadata": {
    "collapsed": true,
    "ExecuteTime": {
     "end_time": "2025-10-19T18:12:26.391397Z",
     "start_time": "2025-10-19T18:12:24.368335Z"
    }
   },
   "source": [
    "# Import necessary libraries\n",
    "import spacy\n",
    "from textblob import TextBlob\n",
    "\n",
    "# Load English spaCy model\n",
    "nlp = spacy.load(\"en_core_web_sm\")\n",
    "\n",
    "# Sample Amazon reviews\n",
    "reviews = [\n",
    "    \"I love the new Samsung Galaxy phone, the camera quality is amazing!\",\n",
    "    \"The Apple MacBook is too expensive for the performance it offers.\",\n",
    "    \"These Nike shoes are super comfortable and stylish.\",\n",
    "    \"I had a bad experience with the Sony headphones; the sound was distorted.\",\n",
    "    \"Amazon Echo is a great device, but Alexa sometimes misunderstands commands.\"\n",
    "]\n",
    "\n",
    "print(\"=== Named Entity Recognition (NER) ===\\n\")\n",
    "\n",
    "# Perform NER\n",
    "for review in reviews:\n",
    "    doc = nlp(review)\n",
    "    print(f\"Review: {review}\")\n",
    "    print(\"Entities:\")\n",
    "    for ent in doc.ents:\n",
    "        print(f\" - {ent.text} ({ent.label_})\")\n",
    "    print(\"\\n\")\n",
    "\n",
    "print(\"\\n=== Sentiment Analysis ===\\n\")\n",
    "\n",
    "# Perform sentiment analysis using TextBlob\n",
    "for review in reviews:\n",
    "    sentiment = TextBlob(review).sentiment.polarity\n",
    "    label = \"Positive\" if sentiment > 0 else \"Negative\" if sentiment < 0 else \"Neutral\"\n",
    "    print(f\"Review: {review}\")\n",
    "    print(f\"Sentiment Score: {sentiment:.2f} → {label}\\n\")"
   ],
   "outputs": [
    {
     "name": "stdout",
     "output_type": "stream",
     "text": [
      "=== Named Entity Recognition (NER) ===\n",
      "\n",
      "Review: I love the new Samsung Galaxy phone, the camera quality is amazing!\n",
      "Entities:\n",
      " - Samsung Galaxy (ORG)\n",
      "\n",
      "\n",
      "Review: The Apple MacBook is too expensive for the performance it offers.\n",
      "Entities:\n",
      " - The Apple MacBook (ORG)\n",
      "\n",
      "\n",
      "Review: These Nike shoes are super comfortable and stylish.\n",
      "Entities:\n",
      " - Nike (ORG)\n",
      "\n",
      "\n",
      "Review: I had a bad experience with the Sony headphones; the sound was distorted.\n",
      "Entities:\n",
      " - Sony (ORG)\n",
      "\n",
      "\n",
      "Review: Amazon Echo is a great device, but Alexa sometimes misunderstands commands.\n",
      "Entities:\n",
      " - Amazon Echo (ORG)\n",
      " - Alexa (ORG)\n",
      "\n",
      "\n",
      "\n",
      "=== Sentiment Analysis ===\n",
      "\n",
      "Review: I love the new Samsung Galaxy phone, the camera quality is amazing!\n",
      "Sentiment Score: 0.46 → Positive\n",
      "\n",
      "Review: The Apple MacBook is too expensive for the performance it offers.\n",
      "Sentiment Score: -0.20 → Negative\n",
      "\n",
      "Review: These Nike shoes are super comfortable and stylish.\n",
      "Sentiment Score: 0.41 → Positive\n",
      "\n",
      "Review: I had a bad experience with the Sony headphones; the sound was distorted.\n",
      "Sentiment Score: -0.15 → Negative\n",
      "\n",
      "Review: Amazon Echo is a great device, but Alexa sometimes misunderstands commands.\n",
      "Sentiment Score: 0.80 → Positive\n",
      "\n"
     ]
    }
   ],
   "execution_count": 3
  }
 ],
 "metadata": {
  "kernelspec": {
   "display_name": "Python 3",
   "language": "python",
   "name": "python3"
  },
  "language_info": {
   "codemirror_mode": {
    "name": "ipython",
    "version": 2
   },
   "file_extension": ".py",
   "mimetype": "text/x-python",
   "name": "python",
   "nbconvert_exporter": "python",
   "pygments_lexer": "ipython2",
   "version": "2.7.6"
  }
 },
 "nbformat": 4,
 "nbformat_minor": 5
}
